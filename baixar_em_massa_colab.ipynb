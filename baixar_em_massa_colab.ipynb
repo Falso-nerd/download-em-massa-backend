{
 "cells": [
  {
   "cell_type": "markdown",
   "metadata": {},
   "source": [
    "# Baixar em Massa — Colab\\n",
    "Execute as células na ordem: 1) preparar  2) iniciar servidor  3) gerar link público."
   ]
  },
  {
   "cell_type": "code",
   "execution_count": null,
   "metadata": {},
   "outputs": [],
   "source": [
    "%%bash\n",
    "set -e\n",
    "apt-get update -y\n",
    "curl -fsSL https://deb.nodesource.com/setup_18.x | sudo -E bash -\n",
    "apt-get install -y nodejs ffmpeg git\n",
    "\n",
    "cd /content\n",
    "rm -rf baixar-em-massa-backend\n",
    "git clone https://github.com/Falso-nerd/baixar-em-massa-backend.git\n",
    "cd baixar-em-massa-backend\n",
    "\n",
    "npm ci || npm install"
   ]
  },
  {
   "cell_type": "code",
   "execution_count": null,
   "metadata": {},
   "outputs": [],
   "source": [
    "import os, subprocess, time\n",
    "os.chdir(\"/content/baixar-em-massa-backend\")\n",
    "os.environ[\"PORT\"] = \"3000\"\n",
    "p = subprocess.Popen([\"node\", \"server.js\"], stdout=subprocess.PIPE, stderr=subprocess.STDOUT)\n",
    "time.sleep(3)\n",
    "for i in range(50):\n",
    "    line = p.stdout.readline().decode(errors=\"ignore\")\n",
    "    if not line:\n",
    "        break\n",
    "    print(line.rstrip())"
   ]
  },
  {
   "cell_type": "code",
   "execution_count": null,
   "metadata": {},
   "outputs": [],
   "source": [
    "%%bash\n",
    "cd /content\n",
    "wget -q https://github.com/cloudflare/cloudflared/releases/latest/download/cloudflared-linux-amd64 -O cloudflared\n",
    "chmod +x cloudflared\n",
    "./cloudflared tunnel --url http://localhost:3000 --no-autoupdate"
   ]
  }
 ],
 "metadata": {
  "colab": {
   "provenance": []
  },
  "kernelspec": {
   "display_name": "Python 3",
   "language": "python",
   "name": "python3"
  },
  "language_info": {
   "name": "python",
   "version": "3.x"
  }
 },
 "nbformat": 4,
 "nbformat_minor": 5
}
