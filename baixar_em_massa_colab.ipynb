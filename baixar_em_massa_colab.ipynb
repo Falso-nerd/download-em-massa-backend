{
 "cells": [
  {
   "cell_type": "markdown",
   "metadata": {},
   "source": [
    "# 🚀 Baixar em Massa - Colab\n",
    "Este notebook inicializa o backend diretamente no Google Colab."
   ]
  },
  {
   "cell_type": "code",
   "execution_count": null,
   "metadata": {},
   "outputs": [],
   "source": [
    "# 🔧 Instalar dependências\n",
    "!apt-get -y install nodejs npm\n",
    "!npm install -g yarn"
   ]
  },
  {
   "cell_type": "code",
   "execution_count": null,
   "metadata": {},
   "outputs": [],
   "source": [
    "# 📂 Clonar seu repositório GitHub\n",
    "!git clone https://github.com/Falso-nerd/baixar-em-massa-backend.git\n",
    "%cd baixar-em-massa-backend\n",
    "!npm install"
   ]
  },
  {
   "cell_type": "code",
   "execution_count": null,
   "metadata": {},
   "outputs": [],
   "source": [
    "# ▶️ Rodar servidor (ele vai rodar em segundo plano)\n",
    "import subprocess\n",
    "subprocess.Popen([\"node\", \"servidor.js\"])\n",
    "print(\"Servidor iniciado com sucesso!\")"
   ]
  },
  {
   "cell_type": "markdown",
   "metadata": {},
   "source": [
    "🔗 Para expor o servidor, use o [ngrok](https://ngrok.com/) ou `localtunnel`:"
   ]
  },
  {
   "cell_type": "code",
   "execution_count": null,
   "metadata": {},
   "outputs": [],
   "source": [
    "!npm install -g localtunnel\n",
    "!lt --port 3000 --subdomain baixar-em-massa"
   ]
  }
 ],
 "metadata": {
  "colab": {
   "provenance": []
  },
  "kernelspec": {
   "display_name": "Python 3",
   "language": "python",
   "name": "python3"
  },
  "language_info": {
   "name": "python"
  }
 },
 "nbformat": 4,
 "nbformat_minor": 0
}

